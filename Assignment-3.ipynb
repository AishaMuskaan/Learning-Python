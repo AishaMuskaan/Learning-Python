{
 "cells": [
  {
   "cell_type": "code",
   "execution_count": 2,
   "id": "55f40287",
   "metadata": {},
   "outputs": [
    {
     "name": "stdout",
     "output_type": "stream",
     "text": [
      "Twinkle, twinkle, little star, \n",
      "         How I wonder what you are! \n",
      "                 Up above the world so high, \n",
      "                 Like a diamond in the sky. \n",
      " Twinkle, twinkle, little star, \n",
      "         How I wonder what you are!\n"
     ]
    }
   ],
   "source": [
    "# Question# 01:\n",
    "print(\"Twinkle, twinkle, little star, \\n         How I wonder what you are! \\n                 Up above the world so high, \\n                 Like a diamond in the sky. \\n Twinkle, twinkle, little star, \\n         How I wonder what you are!\")"
   ]
  },
  {
   "cell_type": "code",
   "execution_count": 3,
   "id": "a47c8cff",
   "metadata": {},
   "outputs": [
    {
     "name": "stdout",
     "output_type": "stream",
     "text": [
      "3.8.8 (default, Apr 13 2021, 15:08:03) [MSC v.1916 64 bit (AMD64)]\n"
     ]
    }
   ],
   "source": [
    "# Question# 02:\n",
    "# Python program to ge the python version\n",
    "import sys\n",
    "print(sys.version)"
   ]
  },
  {
   "cell_type": "code",
   "execution_count": 13,
   "id": "68d702d2",
   "metadata": {},
   "outputs": [
    {
     "name": "stdout",
     "output_type": "stream",
     "text": [
      "Current date and time : \n",
      "2021-10-25 15:41:05\n"
     ]
    }
   ],
   "source": [
    "# Question# 03:\n",
    "# Python program to display the date and time\n",
    "import datetime\n",
    "now = datetime.datetime.now()\n",
    "print (\"Current date and time : \")\n",
    "print (now.strftime(\"%Y-%m-%d %H:%M:%S\"))"
   ]
  },
  {
   "cell_type": "code",
   "execution_count": 5,
   "id": "fb321ada",
   "metadata": {},
   "outputs": [
    {
     "name": "stdout",
     "output_type": "stream",
     "text": [
      "Input the radius of the circle : 3\n",
      "The area of the circle with radius 3.0 is: 28.274333882308138\n"
     ]
    }
   ],
   "source": [
    "# Question# 04:\n",
    "# Python program to compute the area\n",
    "from math import pi\n",
    "r = float(input (\"Input the radius of the circle : \"))\n",
    "print (\"The area of the circle with radius \" + str(r) + \" is: \" + str(pi * r**2))"
   ]
  },
  {
   "cell_type": "code",
   "execution_count": 6,
   "id": "b61feb04",
   "metadata": {},
   "outputs": [
    {
     "name": "stdout",
     "output_type": "stream",
     "text": [
      "Input your First Name : Aisha\n",
      "Input your Last Name : Muskaan\n",
      "Muskaan Aisha\n"
     ]
    }
   ],
   "source": [
    "# Question# 05:\n",
    "# Python program to print names in reverse order\n",
    "first_name = input(\"Input your First Name : \")\n",
    "last_name = input(\"Input your Last Name : \")\n",
    "print (  last_name + \" \" + first_name)"
   ]
  },
  {
   "cell_type": "code",
   "execution_count": 7,
   "id": "febcaad0",
   "metadata": {},
   "outputs": [
    {
     "name": "stdout",
     "output_type": "stream",
     "text": [
      "enter first number: 67\n",
      "enter second number: 78\n",
      "sum: 145\n"
     ]
    }
   ],
   "source": [
    "# Question# 06:\n",
    "# Addition\n",
    "num1 = int(input(\"enter first number: \"))\n",
    "num2 = int(input(\"enter second number: \"))\n",
    "sum = num1 + num2\n",
    "print(\"sum:\", sum)"
   ]
  },
  {
   "cell_type": "code",
   "execution_count": 8,
   "id": "5a65bd8f",
   "metadata": {},
   "outputs": [
    {
     "name": "stdout",
     "output_type": "stream",
     "text": [
      "Enter English Marks78\n",
      "Enter Urdu Marks56\n",
      "Enter Maths Marks99\n",
      "Enter Science Marks89\n",
      "Enter Drawing Marks90\n",
      "Obatained Marks:  412\n",
      "Percentage:  82.4\n",
      "A+ Grade\n"
     ]
    }
   ],
   "source": [
    "# Question# 07:\n",
    "# Marksheet\n",
    "Eng_Marks= int(input(\"Enter English Marks\"))\n",
    "Urdu_Marks= int(input(\"Enter Urdu Marks\"))\n",
    "Maths_Marks= int(input(\"Enter Maths Marks\"))\n",
    "Science_Marks= int(input(\"Enter Science Marks\"))\n",
    "Drawing_Marks= int(input(\"Enter Drawing Marks\"))\n",
    "Total_Marks= 500;\n",
    "Obtained_Marks=Eng_Marks + Urdu_Marks + Maths_Marks + Science_Marks + Drawing_Marks;\n",
    "print(\"Obatained Marks: \", Obtained_Marks);\n",
    "Percentage= (Obtained_Marks * 100) / Total_Marks;\n",
    "print(\"Percentage: \", Percentage);\n",
    "if Percentage < 100 and Percentage >=80:\n",
    "    print(\"A+ Grade\");\n",
    "elif Percentage < 80 and Percentage >=70:\n",
    "    print(\"A Grade\");\n",
    "elif Percentage < 70 and Percentage >=60:\n",
    "    print(\"B Grade\");\n",
    "elif Percentage < 70 and Percentage >=50:\n",
    "    print(\"C Grade\"); \n",
    "elif Percentage < 50 and Percentage >=40:\n",
    "    print(\"D Grade\");\n",
    "elif Percentage < 0 and Percentage > 100:\n",
    "    print(\"Incorrect Percentage\");\n",
    "else:\n",
    "        print(\"Fail\")"
   ]
  },
  {
   "cell_type": "code",
   "execution_count": 9,
   "id": "b7cbcb8f",
   "metadata": {},
   "outputs": [
    {
     "name": "stdout",
     "output_type": "stream",
     "text": [
      "Enter a number: 8\n",
      "The given number is Even\n"
     ]
    }
   ],
   "source": [
    "# Question# 08:\n",
    "# Python program to identify that the given number is even or odd\n",
    "num = int(input(\"Enter a number: \"))\n",
    "if (num % 2) == 0:\n",
    " print(\"The given number is Even\");\n",
    "else:\n",
    " print(\"The given number is Odd\");"
   ]
  },
  {
   "cell_type": "code",
   "execution_count": 10,
   "id": "5ea97545",
   "metadata": {},
   "outputs": [
    {
     "name": "stdout",
     "output_type": "stream",
     "text": [
      "Number of items in the list =  7\n"
     ]
    }
   ],
   "source": [
    "# Question# 09:\n",
    "# Python program to find length of list\n",
    "\n",
    "lst = [56,67,78,98,34,65.12,78];\n",
    "print (\"Number of items in the list = \", len(lst))"
   ]
  },
  {
   "cell_type": "code",
   "execution_count": 1,
   "id": "ebf1dd8f",
   "metadata": {},
   "outputs": [
    {
     "name": "stdout",
     "output_type": "stream",
     "text": [
      "How many numbers: 5\n",
      "Enter number 55\n",
      "Enter number 67\n",
      "Enter number 87\n",
      "Enter number 23\n",
      "Enter number 43\n",
      "Sum of elements in given list is : 275\n"
     ]
    }
   ],
   "source": [
    "# Question# 10:\n",
    "# Python program to sum all the numeric items in a list\n",
    "lst = []\n",
    "num = int(input('How many numbers: '))\n",
    "for n in range(num):\n",
    "\n",
    "    numbers = int(input('Enter number '))\n",
    "    lst.append(numbers)\n",
    "print(\"Sum of elements in given list is :\", sum(lst))"
   ]
  },
  {
   "cell_type": "code",
   "execution_count": 11,
   "id": "a5dd4997",
   "metadata": {},
   "outputs": [
    {
     "name": "stdout",
     "output_type": "stream",
     "text": [
      "Largest element is: 123\n"
     ]
    }
   ],
   "source": [
    "# Question# 11:\n",
    "# Python program to find largest number in a list\n",
    "  \n",
    "# list of numbers\n",
    "list1 = [10, 20, 4, 45, 99,123]\n",
    "  \n",
    "  \n",
    "# printing the maximum element\n",
    "print(\"Largest element is:\", max(list1))"
   ]
  },
  {
   "cell_type": "code",
   "execution_count": 12,
   "id": "526bfc0f",
   "metadata": {},
   "outputs": [
    {
     "name": "stdout",
     "output_type": "stream",
     "text": [
      "[1, 1, 2, 3]\n"
     ]
    }
   ],
   "source": [
    "# Question# 12:\n",
    "# Python program to print out all the elements of the list that are less than 5\n",
    "a = [1, 1, 2, 3, 5, 8, 13, 21, 34, 55, 89]\n",
    "b = []\n",
    "for i in a:\n",
    "    if i < 5:\n",
    "        b.append(i)\n",
    "print(b)"
   ]
  }
 ],
 "metadata": {
  "kernelspec": {
   "display_name": "Python 3",
   "language": "python",
   "name": "python3"
  },
  "language_info": {
   "codemirror_mode": {
    "name": "ipython",
    "version": 3
   },
   "file_extension": ".py",
   "mimetype": "text/x-python",
   "name": "python",
   "nbconvert_exporter": "python",
   "pygments_lexer": "ipython3",
   "version": "3.8.8"
  }
 },
 "nbformat": 4,
 "nbformat_minor": 5
}
